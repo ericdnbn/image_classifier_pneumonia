{
 "cells": [
  {
   "cell_type": "markdown",
   "metadata": {
    "colab_type": "text",
    "id": "view-in-github"
   },
   "source": [
    "<a href=\"https://colab.research.google.com/github/ericdnbn/nn_image_classifier_pneumonia/blob/main/Eric%E2%80%93nn_classifier_colab_notebook.ipynb\" target=\"_parent\"><img src=\"https://colab.research.google.com/assets/colab-badge.svg\" alt=\"Open In Colab\"/></a>"
   ]
  },
  {
   "cell_type": "code",
   "execution_count": 1,
   "metadata": {},
   "outputs": [],
   "source": [
    "import os, shutil\n",
    "import time\n",
    "import matplotlib.pyplot as plt\n",
    "import scipy\n",
    "import numpy as np\n",
    "from PIL import Image\n",
    "from scipy import ndimage\n",
    "from keras.preprocessing.image import ImageDataGenerator, array_to_img, img_to_array, load_img\n",
    "from keras import models\n",
    "from keras import layers\n",
    "from tensorflow.keras.models import Sequential\n",
    "from tensorflow.keras.layers import Dense, Dropout\n",
    "from tensorflow.keras.regularizers import l2\n",
    "from tensorflow.keras.optimizers import SGD\n",
    "from tensorflow.keras.wrappers import scikit_learn\n",
    "from tensorflow.keras.callbacks import EarlyStopping\n"
   ]
  },
  {
   "cell_type": "code",
   "execution_count": 2,
   "metadata": {},
   "outputs": [],
   "source": [
    "train_dir = 'chest_xray/train'\n",
    "val_dir = 'chest_xray/val'\n",
    "test_dir = 'chest_xray/test/' "
   ]
  },
  {
   "cell_type": "code",
   "execution_count": 3,
   "metadata": {},
   "outputs": [],
   "source": [
    "!find . -name \".DS_Store\" -delete"
   ]
  },
  {
   "cell_type": "code",
   "execution_count": 4,
   "metadata": {},
   "outputs": [],
   "source": [
    "train_normal_dir = os.path.join(train_dir, 'NORMAL')\n",
    "train_pneu_dir = os.path.join(train_dir, 'PNEUMONIA')\n",
    "\n",
    "test_normal_dir = os.path.join(test_dir, 'NORMAL')\n",
    "test_pneu_dir = os.path.join(test_dir, 'PNEUMONIA')\n",
    "\n",
    "val_normal_dir = os.path.join(val_dir, 'NORMAL')\n",
    "val_pneu_dir = os.path.join(val_dir, 'PNEUMONIA')"
   ]
  },
  {
   "cell_type": "code",
   "execution_count": 5,
   "metadata": {},
   "outputs": [
    {
     "data": {
      "text/plain": [
       "'chest_xray/train/NORMAL'"
      ]
     },
     "execution_count": 5,
     "metadata": {},
     "output_type": "execute_result"
    }
   ],
   "source": [
    "train_normal_dir"
   ]
  },
  {
   "cell_type": "code",
   "execution_count": 6,
   "metadata": {},
   "outputs": [
    {
     "data": {
      "text/plain": [
       "1242"
      ]
     },
     "execution_count": 6,
     "metadata": {},
     "output_type": "execute_result"
    }
   ],
   "source": [
    "len(os.listdir(train_normal_dir))"
   ]
  },
  {
   "cell_type": "code",
   "execution_count": 7,
   "metadata": {},
   "outputs": [
    {
     "name": "stdout",
     "output_type": "stream",
     "text": [
      "Found 4187 images belonging to 2 classes.\n",
      "Found 624 images belonging to 2 classes.\n",
      "Found 1045 images belonging to 2 classes.\n"
     ]
    }
   ],
   "source": [
    "# get all the data in the directory split/train (542 images), and reshape them\n",
    "arg_dict = {'target_size':(100, 100), \n",
    "            'color_mode':'grayscale', \n",
    "            'batch_size':50}\n",
    "\n",
    "train_datagen = ImageDataGenerator(rescale=1./255, validation_split=0.2)\n",
    "\n",
    "\n",
    "train_generator = train_datagen.flow_from_directory(train_dir, **arg_dict, subset='training')\n",
    "\n",
    "\n",
    "# get all the data in the directory split/test (180 images), and reshape them\n",
    "test_generator = ImageDataGenerator(rescale=1./255).flow_from_directory(test_dir, **arg_dict) \n",
    "\n",
    "\n",
    "# get all the data in the directory split/validation (200 images), and reshape them\n",
    "val_generator = train_datagen.flow_from_directory(train_dir, **arg_dict, subset='validation')\n"
   ]
  },
  {
   "cell_type": "code",
   "execution_count": 8,
   "metadata": {},
   "outputs": [],
   "source": [
    "train_images, train_labels = next(train_generator)\n",
    "test_images, test_labels = next(test_generator)\n",
    "val_images, val_labels = next(val_generator)"
   ]
  },
  {
   "cell_type": "code",
   "execution_count": 9,
   "metadata": {},
   "outputs": [
    {
     "data": {
      "text/plain": [
       "array([[[0.18431373],\n",
       "        [0.1764706 ],\n",
       "        [0.20392159],\n",
       "        ...,\n",
       "        [0.1764706 ],\n",
       "        [0.16862746],\n",
       "        [0.16862746]],\n",
       "\n",
       "       [[0.15686275],\n",
       "        [0.18823531],\n",
       "        [0.21960786],\n",
       "        ...,\n",
       "        [0.19607845],\n",
       "        [0.18431373],\n",
       "        [0.1764706 ]],\n",
       "\n",
       "       [[0.17254902],\n",
       "        [0.20392159],\n",
       "        [0.24313727],\n",
       "        ...,\n",
       "        [0.21176472],\n",
       "        [0.20784315],\n",
       "        [0.18823531]],\n",
       "\n",
       "       ...,\n",
       "\n",
       "       [[0.38431376],\n",
       "        [0.4666667 ],\n",
       "        [0.4784314 ],\n",
       "        ...,\n",
       "        [0.04313726],\n",
       "        [0.0509804 ],\n",
       "        [0.0509804 ]],\n",
       "\n",
       "       [[0.38823533],\n",
       "        [0.43921572],\n",
       "        [0.48627454],\n",
       "        ...,\n",
       "        [0.04313726],\n",
       "        [0.0509804 ],\n",
       "        [0.0509804 ]],\n",
       "\n",
       "       [[0.3803922 ],\n",
       "        [0.43529415],\n",
       "        [0.48627454],\n",
       "        ...,\n",
       "        [0.04705883],\n",
       "        [0.0509804 ],\n",
       "        [0.05490196]]], dtype=float32)"
      ]
     },
     "execution_count": 9,
     "metadata": {},
     "output_type": "execute_result"
    }
   ],
   "source": [
    "train_images[0]"
   ]
  },
  {
   "cell_type": "code",
   "execution_count": 10,
   "metadata": {},
   "outputs": [
    {
     "data": {
      "text/plain": [
       "<matplotlib.image.AxesImage at 0x7fd90de2ebb0>"
      ]
     },
     "execution_count": 10,
     "metadata": {},
     "output_type": "execute_result"
    },
    {
     "data": {
      "image/png": "[encoded data removed]",
      "text/plain": [
       "<Figure size 432x288 with 1 Axes>"
      ]
     },
     "metadata": {
      "needs_background": "light"
     },
     "output_type": "display_data"
    }
   ],
   "source": [
    "plt.imshow(train_images[3])"
   ]
  },
  {
   "cell_type": "code",
   "execution_count": 11,
   "metadata": {},
   "outputs": [
    {
     "data": {
      "text/plain": [
       "50"
      ]
     },
     "execution_count": 11,
     "metadata": {},
     "output_type": "execute_result"
    }
   ],
   "source": [
    "train_images.shape[0]"
   ]
  },
  {
   "cell_type": "code",
   "execution_count": 12,
   "metadata": {},
   "outputs": [
    {
     "name": "stdout",
     "output_type": "stream",
     "text": [
      "Number of training samples: 50\n",
      "Number of testing samples: 50\n",
      "Number of validation samples: 50\n",
      "train_images shape: (50, 100, 100, 1)\n",
      "train_labels shape: (50, 2)\n",
      "test_images shape: (50, 100, 100, 1)\n",
      "test_labels shape: (50, 2)\n",
      "val_images shape: (50, 100, 100, 1)\n",
      "val_labels shape: (50, 2)\n"
     ]
    }
   ],
   "source": [
    "m_train = train_images.shape[0]\n",
    "num_px = train_images.shape[1]\n",
    "m_test = test_images.shape[0]\n",
    "m_val = val_images.shape[0]\n",
    "\n",
    "print (\"Number of training samples: \" + str(m_train))\n",
    "print (\"Number of testing samples: \" + str(m_test))\n",
    "print (\"Number of validation samples: \" + str(m_val))\n",
    "print (\"train_images shape: \" + str(train_images.shape))\n",
    "print (\"train_labels shape: \" + str(train_labels.shape))\n",
    "print (\"test_images shape: \" + str(test_images.shape))\n",
    "print (\"test_labels shape: \" + str(test_labels.shape))\n",
    "print (\"val_images shape: \" + str(val_images.shape))\n",
    "print (\"val_labels shape: \" + str(val_labels.shape))"
   ]
  },
  {
   "cell_type": "code",
   "execution_count": 13,
   "metadata": {},
   "outputs": [
    {
     "name": "stdout",
     "output_type": "stream",
     "text": [
      "(50, 10000)\n",
      "(50, 10000)\n",
      "(50, 10000)\n"
     ]
    }
   ],
   "source": [
    "train_img = train_images.reshape(train_images.shape[0], -1)\n",
    "test_img = test_images.reshape(test_images.shape[0], -1)\n",
    "val_img = val_images.reshape(val_images.shape[0], -1)\n",
    "\n",
    "print(train_img.shape)\n",
    "print(test_img.shape)\n",
    "print(val_img.shape)"
   ]
  },
  {
   "cell_type": "code",
   "execution_count": 14,
   "metadata": {},
   "outputs": [
    {
     "name": "stdout",
     "output_type": "stream",
     "text": [
      "[[0.]\n",
      " [0.]\n",
      " [0.]\n",
      " [1.]\n",
      " [1.]\n",
      " [1.]\n",
      " [0.]\n",
      " [0.]\n",
      " [0.]\n",
      " [0.]\n",
      " [1.]\n",
      " [0.]\n",
      " [0.]\n",
      " [0.]\n",
      " [0.]\n",
      " [0.]\n",
      " [1.]\n",
      " [0.]\n",
      " [0.]\n",
      " [0.]\n",
      " [1.]\n",
      " [1.]\n",
      " [0.]\n",
      " [0.]\n",
      " [0.]\n",
      " [1.]\n",
      " [0.]\n",
      " [0.]\n",
      " [0.]\n",
      " [1.]\n",
      " [0.]\n",
      " [0.]\n",
      " [0.]\n",
      " [0.]\n",
      " [0.]\n",
      " [0.]\n",
      " [0.]\n",
      " [0.]\n",
      " [1.]\n",
      " [0.]\n",
      " [0.]\n",
      " [1.]\n",
      " [0.]\n",
      " [1.]\n",
      " [0.]\n",
      " [1.]\n",
      " [0.]\n",
      " [1.]\n",
      " [0.]\n",
      " [0.]]\n",
      "[[0.]\n",
      " [0.]\n",
      " [1.]\n",
      " [0.]\n",
      " [1.]\n",
      " [0.]\n",
      " [0.]\n",
      " [0.]\n",
      " [1.]\n",
      " [0.]\n",
      " [1.]\n",
      " [0.]\n",
      " [0.]\n",
      " [1.]\n",
      " [1.]\n",
      " [0.]\n",
      " [1.]\n",
      " [1.]\n",
      " [1.]\n",
      " [0.]\n",
      " [0.]\n",
      " [0.]\n",
      " [1.]\n",
      " [0.]\n",
      " [0.]\n",
      " [1.]\n",
      " [0.]\n",
      " [0.]\n",
      " [0.]\n",
      " [1.]\n",
      " [0.]\n",
      " [0.]\n",
      " [1.]\n",
      " [0.]\n",
      " [0.]\n",
      " [0.]\n",
      " [1.]\n",
      " [0.]\n",
      " [1.]\n",
      " [0.]\n",
      " [0.]\n",
      " [0.]\n",
      " [1.]\n",
      " [0.]\n",
      " [0.]\n",
      " [0.]\n",
      " [1.]\n",
      " [0.]\n",
      " [0.]\n",
      " [1.]]\n",
      "[[0.]\n",
      " [0.]\n",
      " [0.]\n",
      " [1.]\n",
      " [0.]\n",
      " [0.]\n",
      " [1.]\n",
      " [0.]\n",
      " [0.]\n",
      " [1.]\n",
      " [1.]\n",
      " [0.]\n",
      " [0.]\n",
      " [0.]\n",
      " [0.]\n",
      " [0.]\n",
      " [0.]\n",
      " [1.]\n",
      " [0.]\n",
      " [0.]\n",
      " [0.]\n",
      " [0.]\n",
      " [0.]\n",
      " [0.]\n",
      " [0.]\n",
      " [0.]\n",
      " [1.]\n",
      " [0.]\n",
      " [0.]\n",
      " [1.]\n",
      " [0.]\n",
      " [0.]\n",
      " [1.]\n",
      " [0.]\n",
      " [1.]\n",
      " [0.]\n",
      " [0.]\n",
      " [1.]\n",
      " [0.]\n",
      " [0.]\n",
      " [0.]\n",
      " [1.]\n",
      " [1.]\n",
      " [0.]\n",
      " [0.]\n",
      " [0.]\n",
      " [0.]\n",
      " [0.]\n",
      " [0.]\n",
      " [0.]]\n"
     ]
    }
   ],
   "source": [
    "train_y = np.reshape(train_labels[:,0], (train_images.shape[0],1))\n",
    "test_y = np.reshape(test_labels[:,0], (test_images.shape[0],1))\n",
    "val_y = np.reshape(val_labels[:,0], (val_images.shape[0],1))\n",
    "\n",
    "print(train_y)\n",
    "print(test_y)\n",
    "print(val_y)"
   ]
  },
  {
   "cell_type": "code",
   "execution_count": 15,
   "metadata": {},
   "outputs": [],
   "source": [
    "# First Simple Model\n",
    "model = models.Sequential()"
   ]
  },
  {
   "cell_type": "code",
   "execution_count": 16,
   "metadata": {},
   "outputs": [],
   "source": [
    "model.add(layers.Dense(32, activation='relu', input_shape=(10000,)))\n",
    "model.add(layers.Dense(1, activation='sigmoid'))"
   ]
  },
  {
   "cell_type": "code",
   "execution_count": 17,
   "metadata": {},
   "outputs": [],
   "source": [
    "model.compile(optimizer='sgd',\n",
    "              loss='binary_crossentropy',\n",
    "              metrics=['accuracy', 'Recall'])"
   ]
  },
  {
   "cell_type": "code",
   "execution_count": 18,
   "metadata": {},
   "outputs": [
    {
     "name": "stdout",
     "output_type": "stream",
     "text": [
      "Epoch 1/50\n",
      "5/5 [==============================] - 0s 72ms/step - loss: 1.0962 - accuracy: 0.6800 - recall: 0.2857 - val_loss: 0.7454 - val_accuracy: 0.2400 - val_recall: 1.0000\n",
      "Epoch 2/50\n",
      "5/5 [==============================] - 0s 21ms/step - loss: 0.7119 - accuracy: 0.2600 - recall: 0.7857 - val_loss: 0.6897 - val_accuracy: 0.8000 - val_recall: 0.4167\n",
      "Epoch 3/50\n",
      "5/5 [==============================] - 0s 17ms/step - loss: 0.6897 - accuracy: 0.7200 - recall: 0.0714 - val_loss: 0.6875 - val_accuracy: 0.7800 - val_recall: 0.1667\n",
      "Epoch 4/50\n",
      "5/5 [==============================] - 0s 16ms/step - loss: 0.6877 - accuracy: 0.7200 - recall: 0.0000e+00 - val_loss: 0.6839 - val_accuracy: 0.7600 - val_recall: 0.0000e+00\n",
      "Epoch 5/50\n",
      "5/5 [==============================] - 0s 14ms/step - loss: 0.6853 - accuracy: 0.7200 - recall: 0.0000e+00 - val_loss: 0.6813 - val_accuracy: 0.7600 - val_recall: 0.0000e+00\n",
      "Epoch 6/50\n",
      "5/5 [==============================] - 0s 20ms/step - loss: 0.6826 - accuracy: 0.7400 - recall: 0.0714 - val_loss: 0.6787 - val_accuracy: 0.7600 - val_recall: 0.0000e+00\n",
      "Epoch 7/50\n",
      "5/5 [==============================] - 0s 16ms/step - loss: 0.6804 - accuracy: 0.7200 - recall: 0.0000e+00 - val_loss: 0.6770 - val_accuracy: 0.7600 - val_recall: 0.0000e+00\n",
      "Epoch 8/50\n",
      "5/5 [==============================] - 0s 18ms/step - loss: 0.6774 - accuracy: 0.7200 - recall: 0.0000e+00 - val_loss: 0.6736 - val_accuracy: 0.7600 - val_recall: 0.0000e+00\n",
      "Epoch 9/50\n",
      "5/5 [==============================] - 0s 17ms/step - loss: 0.6750 - accuracy: 0.7200 - recall: 0.0000e+00 - val_loss: 0.6725 - val_accuracy: 0.7600 - val_recall: 0.0000e+00\n",
      "Epoch 10/50\n",
      "5/5 [==============================] - 0s 16ms/step - loss: 0.6731 - accuracy: 0.7200 - recall: 0.0000e+00 - val_loss: 0.6688 - val_accuracy: 0.7600 - val_recall: 0.0000e+00\n",
      "Epoch 11/50\n",
      "5/5 [==============================] - 0s 16ms/step - loss: 0.6708 - accuracy: 0.7200 - recall: 0.0000e+00 - val_loss: 0.6692 - val_accuracy: 0.7600 - val_recall: 0.0000e+00\n",
      "Epoch 12/50\n",
      "5/5 [==============================] - 0s 23ms/step - loss: 0.6688 - accuracy: 0.7200 - recall: 0.0000e+00 - val_loss: 0.6641 - val_accuracy: 0.7600 - val_recall: 0.0000e+00\n",
      "Epoch 13/50\n",
      "5/5 [==============================] - 0s 11ms/step - loss: 0.6666 - accuracy: 0.7200 - recall: 0.0000e+00 - val_loss: 0.6619 - val_accuracy: 0.7600 - val_recall: 0.0000e+00\n",
      "Epoch 14/50\n",
      "5/5 [==============================] - 0s 18ms/step - loss: 0.6642 - accuracy: 0.7200 - recall: 0.0000e+00 - val_loss: 0.6619 - val_accuracy: 0.7600 - val_recall: 0.0000e+00\n",
      "Epoch 15/50\n",
      "5/5 [==============================] - 0s 14ms/step - loss: 0.6619 - accuracy: 0.7200 - recall: 0.0000e+00 - val_loss: 0.6586 - val_accuracy: 0.7600 - val_recall: 0.0000e+00\n",
      "Epoch 16/50\n",
      "5/5 [==============================] - 0s 17ms/step - loss: 0.6612 - accuracy: 0.7200 - recall: 0.0000e+00 - val_loss: 0.6564 - val_accuracy: 0.7600 - val_recall: 0.0000e+00\n",
      "Epoch 17/50\n",
      "5/5 [==============================] - 0s 21ms/step - loss: 0.6593 - accuracy: 0.7200 - recall: 0.0000e+00 - val_loss: 0.6531 - val_accuracy: 0.7600 - val_recall: 0.0000e+00\n",
      "Epoch 18/50\n",
      "5/5 [==============================] - 0s 18ms/step - loss: 0.6563 - accuracy: 0.7200 - recall: 0.0000e+00 - val_loss: 0.6508 - val_accuracy: 0.7600 - val_recall: 0.0000e+00\n",
      "Epoch 19/50\n",
      "5/5 [==============================] - 0s 22ms/step - loss: 0.6551 - accuracy: 0.7200 - recall: 0.0000e+00 - val_loss: 0.6495 - val_accuracy: 0.7600 - val_recall: 0.0000e+00\n",
      "Epoch 20/50\n",
      "5/5 [==============================] - 0s 26ms/step - loss: 0.6539 - accuracy: 0.7200 - recall: 0.0000e+00 - val_loss: 0.6474 - val_accuracy: 0.7600 - val_recall: 0.0000e+00\n",
      "Epoch 21/50\n",
      "5/5 [==============================] - 0s 31ms/step - loss: 0.6499 - accuracy: 0.7200 - recall: 0.0000e+00 - val_loss: 0.6478 - val_accuracy: 0.7600 - val_recall: 0.0000e+00\n",
      "Epoch 22/50\n",
      "5/5 [==============================] - 0s 19ms/step - loss: 0.6483 - accuracy: 0.7200 - recall: 0.0000e+00 - val_loss: 0.6433 - val_accuracy: 0.7600 - val_recall: 0.0000e+00\n",
      "Epoch 23/50\n",
      "5/5 [==============================] - 0s 16ms/step - loss: 0.6476 - accuracy: 0.7200 - recall: 0.0000e+00 - val_loss: 0.6408 - val_accuracy: 0.7600 - val_recall: 0.0000e+00\n",
      "Epoch 24/50\n",
      "5/5 [==============================] - 0s 21ms/step - loss: 0.6423 - accuracy: 0.7200 - recall: 0.0000e+00 - val_loss: 0.6417 - val_accuracy: 0.7600 - val_recall: 0.0000e+00\n",
      "Epoch 25/50\n",
      "5/5 [==============================] - 0s 25ms/step - loss: 0.6408 - accuracy: 0.7200 - recall: 0.0000e+00 - val_loss: 0.6411 - val_accuracy: 0.7600 - val_recall: 0.0000e+00\n",
      "Epoch 26/50\n",
      "5/5 [==============================] - 0s 19ms/step - loss: 0.6394 - accuracy: 0.7200 - recall: 0.0000e+00 - val_loss: 0.6346 - val_accuracy: 0.7600 - val_recall: 0.0000e+00\n",
      "Epoch 27/50\n",
      "5/5 [==============================] - 0s 15ms/step - loss: 0.6365 - accuracy: 0.7200 - recall: 0.0000e+00 - val_loss: 0.6327 - val_accuracy: 0.7600 - val_recall: 0.0000e+00\n",
      "Epoch 28/50\n",
      "5/5 [==============================] - 0s 17ms/step - loss: 0.6379 - accuracy: 0.7200 - recall: 0.0000e+00 - val_loss: 0.6327 - val_accuracy: 0.7600 - val_recall: 0.0000e+00\n",
      "Epoch 29/50\n",
      "5/5 [==============================] - 0s 24ms/step - loss: 0.6346 - accuracy: 0.7200 - recall: 0.0000e+00 - val_loss: 0.6289 - val_accuracy: 0.7600 - val_recall: 0.0000e+00\n",
      "Epoch 30/50\n",
      "5/5 [==============================] - 0s 34ms/step - loss: 0.6335 - accuracy: 0.7200 - recall: 0.0000e+00 - val_loss: 0.6341 - val_accuracy: 0.7600 - val_recall: 0.0000e+00\n",
      "Epoch 31/50\n",
      "5/5 [==============================] - 0s 21ms/step - loss: 0.6325 - accuracy: 0.7200 - recall: 0.0000e+00 - val_loss: 0.6253 - val_accuracy: 0.7600 - val_recall: 0.0000e+00\n",
      "Epoch 32/50\n",
      "5/5 [==============================] - 0s 30ms/step - loss: 0.6248 - accuracy: 0.7200 - recall: 0.0000e+00 - val_loss: 0.6226 - val_accuracy: 0.7600 - val_recall: 0.0000e+00\n",
      "Epoch 33/50\n",
      "5/5 [==============================] - 0s 21ms/step - loss: 0.6224 - accuracy: 0.7200 - recall: 0.0000e+00 - val_loss: 0.6243 - val_accuracy: 0.7600 - val_recall: 0.0000e+00\n",
      "Epoch 34/50\n",
      "5/5 [==============================] - 0s 16ms/step - loss: 0.6220 - accuracy: 0.7400 - recall: 0.0714 - val_loss: 0.6193 - val_accuracy: 0.7600 - val_recall: 0.0000e+00\n",
      "Epoch 35/50\n",
      "5/5 [==============================] - 0s 18ms/step - loss: 0.6194 - accuracy: 0.7400 - recall: 0.0714 - val_loss: 0.6202 - val_accuracy: 0.7600 - val_recall: 0.0000e+00\n",
      "Epoch 36/50\n",
      "5/5 [==============================] - 0s 25ms/step - loss: 0.6189 - accuracy: 0.7400 - recall: 0.0714 - val_loss: 0.6165 - val_accuracy: 0.7600 - val_recall: 0.0000e+00\n",
      "Epoch 37/50\n",
      "5/5 [==============================] - 0s 24ms/step - loss: 0.6115 - accuracy: 0.7200 - recall: 0.0000e+00 - val_loss: 0.6164 - val_accuracy: 0.7600 - val_recall: 0.0000e+00\n",
      "Epoch 38/50\n",
      "5/5 [==============================] - 0s 31ms/step - loss: 0.6161 - accuracy: 0.7400 - recall: 0.0714 - val_loss: 0.6251 - val_accuracy: 0.7600 - val_recall: 0.1667\n",
      "Epoch 39/50\n",
      "5/5 [==============================] - 0s 16ms/step - loss: 0.6092 - accuracy: 0.8000 - recall: 0.2857 - val_loss: 0.6094 - val_accuracy: 0.7600 - val_recall: 0.0000e+00\n",
      "Epoch 40/50\n",
      "5/5 [==============================] - 0s 15ms/step - loss: 0.6063 - accuracy: 0.7600 - recall: 0.1429 - val_loss: 0.6097 - val_accuracy: 0.7600 - val_recall: 0.0000e+00\n",
      "Epoch 41/50\n",
      "5/5 [==============================] - 0s 14ms/step - loss: 0.6057 - accuracy: 0.7600 - recall: 0.1429 - val_loss: 0.6114 - val_accuracy: 0.7800 - val_recall: 0.1667\n",
      "Epoch 42/50\n",
      "5/5 [==============================] - 0s 11ms/step - loss: 0.6032 - accuracy: 0.8000 - recall: 0.2857 - val_loss: 0.6078 - val_accuracy: 0.7600 - val_recall: 0.0000e+00\n",
      "Epoch 43/50\n",
      "5/5 [==============================] - 0s 16ms/step - loss: 0.6052 - accuracy: 0.7800 - recall: 0.2143 - val_loss: 0.6128 - val_accuracy: 0.7800 - val_recall: 0.2500\n",
      "Epoch 44/50\n",
      "5/5 [==============================] - 0s 14ms/step - loss: 0.6031 - accuracy: 0.7800 - recall: 0.2143 - val_loss: 0.6054 - val_accuracy: 0.7800 - val_recall: 0.2500\n",
      "Epoch 45/50\n"
     ]
    },
    {
     "name": "stdout",
     "output_type": "stream",
     "text": [
      "5/5 [==============================] - 0s 9ms/step - loss: 0.5874 - accuracy: 0.8400 - recall: 0.4286 - val_loss: 0.5974 - val_accuracy: 0.7800 - val_recall: 0.1667\n",
      "Epoch 46/50\n",
      "5/5 [==============================] - 0s 20ms/step - loss: 0.5891 - accuracy: 0.8600 - recall: 0.5000 - val_loss: 0.6004 - val_accuracy: 0.7600 - val_recall: 0.0000e+00\n",
      "Epoch 47/50\n",
      "5/5 [==============================] - 0s 13ms/step - loss: 0.5914 - accuracy: 0.8200 - recall: 0.3571 - val_loss: 0.5907 - val_accuracy: 0.7800 - val_recall: 0.1667\n",
      "Epoch 48/50\n",
      "5/5 [==============================] - 0s 14ms/step - loss: 0.5706 - accuracy: 0.9000 - recall: 0.6429 - val_loss: 0.5900 - val_accuracy: 0.7600 - val_recall: 0.0000e+00\n",
      "Epoch 49/50\n",
      "5/5 [==============================] - 0s 13ms/step - loss: 0.5687 - accuracy: 0.8800 - recall: 0.5714 - val_loss: 0.5850 - val_accuracy: 0.7800 - val_recall: 0.1667\n",
      "Epoch 50/50\n",
      "5/5 [==============================] - 0s 12ms/step - loss: 0.5822 - accuracy: 0.8800 - recall: 0.6429 - val_loss: 0.5825 - val_accuracy: 0.7800 - val_recall: 0.2500\n"
     ]
    }
   ],
   "source": [
    "history = model.fit(train_img, \n",
    "                     train_y,\n",
    "                     epochs=50,\n",
    "                     batch_size=10,\n",
    "                     validation_data=(val_img, val_y))"
   ]
  },
  {
   "cell_type": "code",
   "execution_count": 19,
   "metadata": {},
   "outputs": [
    {
     "data": {
      "image/png": "[encoded data removed]",
      "text/plain": [
       "<Figure size 432x288 with 1 Axes>"
      ]
     },
     "metadata": {
      "needs_background": "light"
     },
     "output_type": "display_data"
    },
    {
     "data": {
      "image/png": "[encoded data removed]",
      "text/plain": [
       "<Figure size 432x288 with 1 Axes>"
      ]
     },
     "metadata": {
      "needs_background": "light"
     },
     "output_type": "display_data"
    },
    {
     "data": {
      "image/png": "[encoded data removed]",
      "text/plain": [
       "<Figure size 432x288 with 1 Axes>"
      ]
     },
     "metadata": {
      "needs_background": "light"
     },
     "output_type": "display_data"
    }
   ],
   "source": [
    "\n",
    "import matplotlib.pyplot as plt\n",
    "%matplotlib inline \n",
    "\n",
    "acc = history.history['accuracy']\n",
    "val_acc = history.history['val_accuracy']\n",
    "loss = history.history['loss']\n",
    "val_loss = history.history['val_loss']\n",
    "recall = history.history['recall']\n",
    "val_recall = history.history['val_recall']\n",
    "\n",
    "epochs = range(len(acc))\n",
    "plt.plot(epochs, acc, 'bo', label='Training accuracy')\n",
    "plt.plot(epochs, val_acc, 'b', label='Validation accuracy')\n",
    "plt.title('Training and validation accuracy')\n",
    "plt.legend()\n",
    "plt.figure()\n",
    "plt.plot(epochs, loss, 'bo', label='Training loss')\n",
    "plt.plot(epochs, val_loss, 'b', label='Validation loss')\n",
    "plt.title('Training and validation loss')\n",
    "plt.legend()\n",
    "plt.figure()\n",
    "plt.plot(epochs, recall, 'bo', label='Training recall')\n",
    "plt.plot(epochs, val_recall, 'b', label='Validation recall')\n",
    "plt.title('Training and validation recall')\n",
    "plt.legend()\n",
    "plt.show()"
   ]
  },
  {
   "cell_type": "code",
   "execution_count": 20,
   "metadata": {},
   "outputs": [
    {
     "name": "stdout",
     "output_type": "stream",
     "text": [
      "2/2 [==============================] - 0s 1ms/step - loss: 0.5555 - accuracy: 0.9000 - recall: 0.6429\n"
     ]
    }
   ],
   "source": [
    "results_train = model.evaluate(train_img, train_y)"
   ]
  },
  {
   "cell_type": "code",
   "execution_count": 21,
   "metadata": {},
   "outputs": [
    {
     "data": {
      "text/plain": [
       "[0.5555261373519897, 0.8999999761581421, 0.6428571343421936]"
      ]
     },
     "execution_count": 21,
     "metadata": {},
     "output_type": "execute_result"
    }
   ],
   "source": [
    "results_train"
   ]
  },
  {
   "cell_type": "code",
   "execution_count": 22,
   "metadata": {},
   "outputs": [
    {
     "name": "stdout",
     "output_type": "stream",
     "text": [
      "2/2 [==============================] - 0s 1ms/step - loss: 0.6106 - accuracy: 0.7200 - recall: 0.2222\n"
     ]
    }
   ],
   "source": [
    "results_test = model.evaluate(test_img, test_y)"
   ]
  },
  {
   "cell_type": "code",
   "execution_count": 23,
   "metadata": {},
   "outputs": [
    {
     "data": {
      "text/plain": [
       "[0.6106202006340027, 0.7200000286102295, 0.2222222238779068]"
      ]
     },
     "execution_count": 23,
     "metadata": {},
     "output_type": "execute_result"
    }
   ],
   "source": [
    "results_test"
   ]
  },
  {
   "cell_type": "code",
   "execution_count": 24,
   "metadata": {},
   "outputs": [],
   "source": [
    "from sklearn.metrics import confusion_matrix, ConfusionMatrixDisplay"
   ]
  },
  {
   "cell_type": "code",
   "execution_count": 25,
   "metadata": {},
   "outputs": [],
   "source": [
    "preds = (model.predict(train_img) > 0.5).astype('int32')\n",
    "\n",
    "cm = confusion_matrix(train_y, preds)"
   ]
  },
  {
   "cell_type": "code",
   "execution_count": 26,
   "metadata": {},
   "outputs": [
    {
     "data": {
      "text/plain": [
       "array([[36,  0],\n",
       "       [ 5,  9]])"
      ]
     },
     "execution_count": 26,
     "metadata": {},
     "output_type": "execute_result"
    }
   ],
   "source": [
    "cm"
   ]
  },
  {
   "cell_type": "code",
   "execution_count": 27,
   "metadata": {},
   "outputs": [],
   "source": [
    "cmd = ConfusionMatrixDisplay(cm, display_labels=['Nomral', 'Pneumonia'])"
   ]
  },
  {
   "cell_type": "code",
   "execution_count": 28,
   "metadata": {},
   "outputs": [
    {
     "data": {
      "text/plain": [
       "<sklearn.metrics._plot.confusion_matrix.ConfusionMatrixDisplay at 0x7fd90f64cd00>"
      ]
     },
     "execution_count": 28,
     "metadata": {},
     "output_type": "execute_result"
    },
    {
     "data": {
      "image/png": "[encoded data removed]",
      "text/plain": [
       "<Figure size 432x288 with 2 Axes>"
      ]
     },
     "metadata": {
      "needs_background": "light"
     },
     "output_type": "display_data"
    }
   ],
   "source": [
    "cmd.plot()"
   ]
  },
  {
   "cell_type": "code",
   "execution_count": 29,
   "metadata": {},
   "outputs": [
    {
     "name": "stderr",
     "output_type": "stream",
     "text": [
      "/opt/anaconda3/envs/learn-env/lib/python3.8/site-packages/sklearn/utils/validation.py:67: FutureWarning: Pass classes=[0 1], y=[0 0 0 ... 1 1 1] as keyword args. From version 0.25 passing these as positional arguments will result in an error\n",
      "  warnings.warn(\"Pass {} as keyword args. From version 0.25 \"\n"
     ]
    }
   ],
   "source": [
    "from sklearn.utils import class_weight\n",
    "\n",
    "# Calculate floats/raw class weights\n",
    "class_weights = class_weight.compute_class_weight(\n",
    "               'balanced',\n",
    "                np.unique(train_generator.classes), \n",
    "                train_generator.classes)\n",
    "\n",
    "# Convert to dict for .fit(class_weight= ) param\n",
    "nn_class_weights = {0:class_weights[0],\n",
    "                    1:class_weights[1]}"
   ]
  },
  {
   "cell_type": "code",
   "execution_count": 30,
   "metadata": {},
   "outputs": [],
   "source": [
    "def preprocessing_dense_data(train_directory=train_dir,\n",
    "                             test_directory=test_dir,\n",
    "                             ts_tuple=(256,256), \n",
    "                             color='grayscale', \n",
    "                             batch_size=None,\n",
    "                             process_test=False):\n",
    "\n",
    "    \n",
    "    arg_dict = {'target_size':ts_tuple, \n",
    "                'color_mode':color, \n",
    "                'batch_size':batch_size}\n",
    "\n",
    "    train_datagen = ImageDataGenerator(rescale=1./255, validation_split=0.2)\n",
    "       \n",
    "    train_generator = train_datagen.flow_from_directory(train_dir, **arg_dict, subset='training') \n",
    "\n",
    "    val_generator = train_datagen.flow_from_directory(train_dir, **arg_dict, subset='validation')\n",
    "    \n",
    "    \n",
    "    train_images, train_labels = next(train_generator)\n",
    "    \n",
    "    val_images, val_labels = next(val_generator)\n",
    "    \n",
    "    \n",
    "    X_train = train_images.reshape(train_images.shape[0], -1)\n",
    "    \n",
    "    X_val = val_images.reshape(val_images.shape[0], -1)\n",
    "    \n",
    "    \n",
    "    y_train = np.reshape(train_labels[:,0], (train_images.shape[0],1))\n",
    "    \n",
    "    y_val = np.reshape(val_labels[:,0], (val_images.shape[0],1))\n",
    "    \n",
    "    \n",
    "    return X_train, X_val, y_train, y_val\n",
    "    \n",
    "    \n",
    "    \n",
    "    \n",
    "    if process_test:\n",
    "        \n",
    "        test_generator = ImageDataGenerator(rescale=1./255).flow_from_directory(test_dir, **arg_dict, subset='test')\n",
    "        \n",
    "        test_images, test_labels = next(test_generator)\n",
    "        \n",
    "        X_test = test_images.reshape(test_images.shape[0], -1)\n",
    "        \n",
    "        y_test = np.reshape(test_labels[:,0], (test_images.shape[0],1))\n",
    "        \n",
    "        return X_test, y_test\n",
    "    \n",
    "   \n",
    "    \n",
    "    \n"
   ]
  },
  {
   "cell_type": "code",
   "execution_count": 31,
   "metadata": {},
   "outputs": [
    {
     "name": "stdout",
     "output_type": "stream",
     "text": [
      "Found 4187 images belonging to 2 classes.\n",
      "Found 1045 images belonging to 2 classes.\n"
     ]
    }
   ],
   "source": [
    "X_train, X_val, y_train, y_val = preprocessing_dense_data(batch_size=200)"
   ]
  },
  {
   "cell_type": "code",
   "execution_count": 32,
   "metadata": {},
   "outputs": [],
   "source": [
    "model2 = models.Sequential()"
   ]
  },
  {
   "cell_type": "code",
   "execution_count": 33,
   "metadata": {},
   "outputs": [],
   "source": [
    "model2.add(layers.Dense(32, activation='relu', input_shape=(X_train.shape[1],)))\n",
    "model2.add(layers.Dense(16, activation='relu'))\n",
    "model2.add(layers.Dense(1, activation='sigmoid'))"
   ]
  },
  {
   "cell_type": "code",
   "execution_count": 34,
   "metadata": {},
   "outputs": [],
   "source": [
    "model2.compile(optimizer='sgd',\n",
    "              loss='binary_crossentropy',\n",
    "              metrics=['accuracy', 'Recall'])"
   ]
  },
  {
   "cell_type": "code",
   "execution_count": 35,
   "metadata": {},
   "outputs": [
    {
     "name": "stdout",
     "output_type": "stream",
     "text": [
      "Epoch 1/50\n",
      "20/20 [==============================] - 1s 32ms/step - loss: 0.6075 - accuracy: 0.7350 - recall: 0.0000e+00 - val_loss: 0.6007 - val_accuracy: 0.6850 - val_recall: 0.0000e+00\n",
      "Epoch 2/50\n",
      "20/20 [==============================] - 0s 21ms/step - loss: 0.5633 - accuracy: 0.7350 - recall: 0.0000e+00 - val_loss: 0.5740 - val_accuracy: 0.6850 - val_recall: 0.0000e+00\n",
      "Epoch 3/50\n",
      "20/20 [==============================] - 0s 17ms/step - loss: 0.5750 - accuracy: 0.7350 - recall: 0.0000e+00 - val_loss: 0.5793 - val_accuracy: 0.6850 - val_recall: 0.0000e+00\n",
      "Epoch 4/50\n",
      "20/20 [==============================] - 0s 18ms/step - loss: 0.5253 - accuracy: 0.7350 - recall: 0.0000e+00 - val_loss: 0.5824 - val_accuracy: 0.6850 - val_recall: 0.0000e+00\n",
      "Epoch 5/50\n",
      "20/20 [==============================] - 0s 18ms/step - loss: 0.5313 - accuracy: 0.7350 - recall: 0.0000e+00 - val_loss: 0.6889 - val_accuracy: 0.6850 - val_recall: 0.0000e+00\n",
      "Epoch 6/50\n",
      "20/20 [==============================] - 0s 19ms/step - loss: 0.4842 - accuracy: 0.7350 - recall: 0.0000e+00 - val_loss: 0.4917 - val_accuracy: 0.6850 - val_recall: 0.0000e+00\n",
      "Epoch 7/50\n",
      "20/20 [==============================] - 0s 20ms/step - loss: 0.4631 - accuracy: 0.7350 - recall: 0.0000e+00 - val_loss: 0.4184 - val_accuracy: 0.6850 - val_recall: 0.0000e+00\n",
      "Epoch 8/50\n",
      "20/20 [==============================] - 0s 18ms/step - loss: 0.4315 - accuracy: 0.7350 - recall: 0.0000e+00 - val_loss: 0.6682 - val_accuracy: 0.6850 - val_recall: 0.0000e+00\n",
      "Epoch 9/50\n",
      "20/20 [==============================] - 0s 22ms/step - loss: 0.4102 - accuracy: 0.7300 - recall: 0.1132 - val_loss: 0.4238 - val_accuracy: 0.7650 - val_recall: 0.2698\n",
      "Epoch 10/50\n",
      "20/20 [==============================] - 0s 21ms/step - loss: 0.3952 - accuracy: 0.8000 - recall: 0.5472 - val_loss: 0.5598 - val_accuracy: 0.6850 - val_recall: 1.0000\n",
      "Epoch 11/50\n",
      "20/20 [==============================] - 0s 19ms/step - loss: 0.4564 - accuracy: 0.7400 - recall: 0.7358 - val_loss: 0.6320 - val_accuracy: 0.7100 - val_recall: 0.0794\n",
      "Epoch 12/50\n",
      "20/20 [==============================] - 0s 21ms/step - loss: 0.3291 - accuracy: 0.8850 - recall: 0.6981 - val_loss: 0.4890 - val_accuracy: 0.7650 - val_recall: 0.2540\n",
      "Epoch 13/50\n",
      "20/20 [==============================] - 0s 20ms/step - loss: 0.3579 - accuracy: 0.8500 - recall: 0.6792 - val_loss: 0.3588 - val_accuracy: 0.8900 - val_recall: 0.7937\n",
      "Epoch 14/50\n",
      "20/20 [==============================] - 0s 24ms/step - loss: 0.3153 - accuracy: 0.9000 - recall: 0.7358 - val_loss: 0.4203 - val_accuracy: 0.7900 - val_recall: 0.3492\n",
      "Epoch 15/50\n",
      "20/20 [==============================] - 1s 26ms/step - loss: 0.3015 - accuracy: 0.9100 - recall: 0.7736 - val_loss: 0.4640 - val_accuracy: 0.7750 - val_recall: 0.3016\n",
      "Epoch 16/50\n",
      "20/20 [==============================] - 0s 23ms/step - loss: 0.3582 - accuracy: 0.8150 - recall: 0.7736 - val_loss: 0.3333 - val_accuracy: 0.9050 - val_recall: 0.7302\n",
      "Epoch 17/50\n",
      "20/20 [==============================] - 0s 24ms/step - loss: 0.2772 - accuracy: 0.9050 - recall: 0.6792 - val_loss: 0.3394 - val_accuracy: 0.8850 - val_recall: 0.6667\n",
      "Epoch 18/50\n",
      "20/20 [==============================] - 1s 28ms/step - loss: 0.3163 - accuracy: 0.8900 - recall: 0.7736 - val_loss: 0.3234 - val_accuracy: 0.9150 - val_recall: 0.7937\n",
      "Epoch 19/50\n",
      "20/20 [==============================] - 1s 26ms/step - loss: 0.3381 - accuracy: 0.8650 - recall: 0.7925 - val_loss: 0.4525 - val_accuracy: 0.7700 - val_recall: 1.0000\n",
      "Epoch 20/50\n",
      "20/20 [==============================] - 1s 26ms/step - loss: 0.2745 - accuracy: 0.9050 - recall: 0.8491 - val_loss: 0.3150 - val_accuracy: 0.9100 - val_recall: 0.7460\n",
      "Epoch 21/50\n",
      "20/20 [==============================] - 0s 21ms/step - loss: 0.2583 - accuracy: 0.9250 - recall: 0.7925 - val_loss: 0.6705 - val_accuracy: 0.4300 - val_recall: 1.0000\n",
      "Epoch 22/50\n",
      "20/20 [==============================] - 1s 25ms/step - loss: 0.3754 - accuracy: 0.8350 - recall: 0.8491 - val_loss: 0.3631 - val_accuracy: 0.8700 - val_recall: 0.6032\n",
      "Epoch 23/50\n",
      "20/20 [==============================] - 0s 23ms/step - loss: 0.3316 - accuracy: 0.8250 - recall: 0.8491 - val_loss: 0.3035 - val_accuracy: 0.9150 - val_recall: 0.7937\n",
      "Epoch 24/50\n",
      "20/20 [==============================] - 0s 18ms/step - loss: 0.2492 - accuracy: 0.9300 - recall: 0.8491 - val_loss: 0.3532 - val_accuracy: 0.8800 - val_recall: 0.9841\n",
      "Epoch 25/50\n",
      "20/20 [==============================] - 0s 22ms/step - loss: 0.2915 - accuracy: 0.9100 - recall: 0.8491 - val_loss: 0.2987 - val_accuracy: 0.9250 - val_recall: 0.8571\n",
      "Epoch 26/50\n",
      "20/20 [==============================] - 1s 34ms/step - loss: 0.2629 - accuracy: 0.9100 - recall: 0.8679 - val_loss: 0.3852 - val_accuracy: 0.8550 - val_recall: 0.5556\n",
      "Epoch 27/50\n",
      "20/20 [==============================] - 1s 27ms/step - loss: 0.2479 - accuracy: 0.9300 - recall: 0.8491 - val_loss: 0.2892 - val_accuracy: 0.9400 - val_recall: 0.8571\n",
      "Epoch 28/50\n",
      "20/20 [==============================] - 0s 23ms/step - loss: 0.2731 - accuracy: 0.9000 - recall: 0.8302 - val_loss: 0.3401 - val_accuracy: 0.8750 - val_recall: 0.9841\n",
      "Epoch 29/50\n",
      "20/20 [==============================] - 0s 21ms/step - loss: 0.3140 - accuracy: 0.9000 - recall: 0.8302 - val_loss: 0.3291 - val_accuracy: 0.8850 - val_recall: 0.9841\n",
      "Epoch 30/50\n",
      "20/20 [==============================] - 1s 27ms/step - loss: 0.2361 - accuracy: 0.9400 - recall: 0.8868 - val_loss: 0.3397 - val_accuracy: 0.8700 - val_recall: 0.6032\n",
      "Epoch 31/50\n",
      "20/20 [==============================] - 0s 21ms/step - loss: 0.2484 - accuracy: 0.9200 - recall: 0.8868 - val_loss: 0.3871 - val_accuracy: 0.8450 - val_recall: 0.5238\n",
      "Epoch 32/50\n",
      "20/20 [==============================] - 1s 25ms/step - loss: 0.1937 - accuracy: 0.9550 - recall: 0.9057 - val_loss: 0.2768 - val_accuracy: 0.9150 - val_recall: 0.7778\n",
      "Epoch 33/50\n",
      "20/20 [==============================] - 0s 24ms/step - loss: 0.2289 - accuracy: 0.9400 - recall: 0.9057 - val_loss: 0.3119 - val_accuracy: 0.8800 - val_recall: 0.6349\n",
      "Epoch 34/50\n",
      "20/20 [==============================] - 0s 23ms/step - loss: 0.2105 - accuracy: 0.9650 - recall: 0.9057 - val_loss: 0.3216 - val_accuracy: 0.8750 - val_recall: 0.6190\n",
      "Epoch 35/50\n",
      "20/20 [==============================] - 0s 23ms/step - loss: 0.2501 - accuracy: 0.9400 - recall: 0.8491 - val_loss: 0.2693 - val_accuracy: 0.9300 - val_recall: 0.8889\n",
      "Epoch 36/50\n",
      "20/20 [==============================] - 0s 23ms/step - loss: 0.2054 - accuracy: 0.9500 - recall: 0.9245 - val_loss: 0.3078 - val_accuracy: 0.8800 - val_recall: 0.6349\n",
      "Epoch 37/50\n",
      "20/20 [==============================] - 0s 20ms/step - loss: 0.1867 - accuracy: 0.9700 - recall: 0.9245 - val_loss: 0.2704 - val_accuracy: 0.9200 - val_recall: 0.7937\n",
      "Epoch 38/50\n",
      "20/20 [==============================] - 0s 18ms/step - loss: 0.1883 - accuracy: 0.9550 - recall: 0.9057 - val_loss: 0.2752 - val_accuracy: 0.9050 - val_recall: 0.8889\n",
      "Epoch 39/50\n",
      "20/20 [==============================] - 0s 20ms/step - loss: 0.2126 - accuracy: 0.9400 - recall: 0.9434 - val_loss: 0.2621 - val_accuracy: 0.9200 - val_recall: 0.7937\n",
      "Epoch 40/50\n",
      "20/20 [==============================] - 0s 18ms/step - loss: 0.3266 - accuracy: 0.8450 - recall: 0.8491 - val_loss: 0.7903 - val_accuracy: 0.3150 - val_recall: 1.0000\n",
      "Epoch 41/50\n",
      "20/20 [==============================] - 0s 17ms/step - loss: 0.8008 - accuracy: 0.2650 - recall: 1.0000 - val_loss: 0.7720 - val_accuracy: 0.3150 - val_recall: 1.0000\n",
      "Epoch 42/50\n",
      "20/20 [==============================] - 0s 19ms/step - loss: 0.7800 - accuracy: 0.2650 - recall: 1.0000 - val_loss: 0.7555 - val_accuracy: 0.3150 - val_recall: 1.0000\n",
      "Epoch 43/50\n",
      "20/20 [==============================] - 0s 19ms/step - loss: 0.7613 - accuracy: 0.2650 - recall: 1.0000 - val_loss: 0.7407 - val_accuracy: 0.3150 - val_recall: 1.0000\n",
      "Epoch 44/50\n",
      "20/20 [==============================] - 0s 24ms/step - loss: 0.7443 - accuracy: 0.2650 - recall: 1.0000 - val_loss: 0.7274 - val_accuracy: 0.3150 - val_recall: 1.0000\n",
      "Epoch 45/50\n",
      "20/20 [==============================] - 0s 20ms/step - loss: 0.7290 - accuracy: 0.2650 - recall: 1.0000 - val_loss: 0.7156 - val_accuracy: 0.3150 - val_recall: 1.0000\n",
      "Epoch 46/50\n"
     ]
    },
    {
     "name": "stdout",
     "output_type": "stream",
     "text": [
      "20/20 [==============================] - 0s 23ms/step - loss: 0.7150 - accuracy: 0.2650 - recall: 1.0000 - val_loss: 0.7049 - val_accuracy: 0.3150 - val_recall: 1.0000\n",
      "Epoch 47/50\n",
      "20/20 [==============================] - 0s 17ms/step - loss: 0.7025 - accuracy: 0.2650 - recall: 1.0000 - val_loss: 0.6954 - val_accuracy: 0.3250 - val_recall: 1.0000\n",
      "Epoch 48/50\n",
      "20/20 [==============================] - 1s 30ms/step - loss: 0.6910 - accuracy: 0.6050 - recall: 0.3208 - val_loss: 0.6869 - val_accuracy: 0.6850 - val_recall: 0.0000e+00\n",
      "Epoch 49/50\n",
      "20/20 [==============================] - 0s 18ms/step - loss: 0.6807 - accuracy: 0.7350 - recall: 0.0000e+00 - val_loss: 0.6794 - val_accuracy: 0.6850 - val_recall: 0.0000e+00\n",
      "Epoch 50/50\n",
      "20/20 [==============================] - 0s 21ms/step - loss: 0.6714 - accuracy: 0.7350 - recall: 0.0000e+00 - val_loss: 0.6726 - val_accuracy: 0.6850 - val_recall: 0.0000e+00\n"
     ]
    }
   ],
   "source": [
    "history2 = model2.fit(X_train, \n",
    "                     y_train,\n",
    "                     epochs=50,\n",
    "                     batch_size=10,\n",
    "                     validation_data=(X_val, y_val))"
   ]
  },
  {
   "cell_type": "code",
   "execution_count": 36,
   "metadata": {},
   "outputs": [],
   "source": [
    "def visualize_nn(history, model, X, y_true):\n",
    "    acc = history.history['accuracy']\n",
    "    mean_acc = np.mean(history.history['accuracy'])\n",
    "    val_acc = history.history['val_accuracy']\n",
    "    mean_val_acc = np.mean(history.history['val_accuracy'])\n",
    "    loss = history.history['loss']\n",
    "    mean_loss = np.mean(history.history['loss'])\n",
    "    val_loss = history.history['val_loss']\n",
    "    mean_val_loss = np.mean(history.history['val_loss'])\n",
    "    recall = history.history['recall']\n",
    "    mean_recall = np.mean(history.history['recall'])\n",
    "    val_recall = history.history['val_recall']\n",
    "    mean_val_recall = np.mean(history.history['val_recall'])\n",
    "\n",
    "    epochs = range(len(acc))\n",
    "    plt.plot(epochs, acc, 'bo', label='Training accuracy')\n",
    "    plt.plot(epochs, val_acc, 'b', label='Validation accuracy')\n",
    "    plt.title('Training and validation accuracy')\n",
    "    plt.legend()\n",
    "    plt.figure()\n",
    "    plt.plot(epochs, loss, 'bo', label='Training loss')\n",
    "    plt.plot(epochs, val_loss, 'b', label='Validation loss')\n",
    "    plt.title('Training and validation loss')\n",
    "    plt.legend()\n",
    "    plt.figure()\n",
    "    plt.plot(epochs, recall, 'bo', label='Training recall')\n",
    "    plt.plot(epochs, val_recall, 'b', label='Validation recall')\n",
    "    plt.title('Training and validation recall')\n",
    "    plt.legend()\n",
    "    plt.show()\n",
    "    \n",
    "    \n",
    "    print(f'Mean Training Accuracy: {mean_acc}')\n",
    "    print(f'Mean Validation Accuracy: {mean_val_acc}')\n",
    "    \n",
    "    print(f'Mean Training Loss: {mean_loss}')\n",
    "    print(f'Mean Validation Loss: {mean_val_loss}')\n",
    "    \n",
    "    print(f'Mean Training Recall: {mean_recall}')\n",
    "    print(f'Mean Validation Recall: {mean_val_recall}')\n",
    "    \n",
    "    training_eval = model.evaluate(X_train, y_train)\n",
    "    validation_eval = model.evaluate(X_val, y_val)\n",
    "                                   \n",
    "    print(f'Training Evaluation: {training_eval}')\n",
    "    print(f'Validation Evaluation: {training_eval}')\n",
    "    \n",
    "    \n",
    "    \n",
    "    preds = (model.predict(X) > 0.5).astype('int32')\n",
    "\n",
    "    cm = confusion_matrix(y_true, preds)\n",
    "    \n",
    "    cmd = ConfusionMatrixDisplay(cm, display_labels=['Normal', 'Pneumonia'])\n",
    "    \n",
    "    cmd.plot();"
   ]
  },
  {
   "cell_type": "code",
   "execution_count": 37,
   "metadata": {},
   "outputs": [
    {
     "data": {
      "image/png": "[encoded data removed]",
      "text/plain": [
       "<Figure size 432x288 with 1 Axes>"
      ]
     },
     "metadata": {
      "needs_background": "light"
     },
     "output_type": "display_data"
    },
    {
     "data": {
      "image/png": "[encoded data removed]",
      "text/plain": [
       "<Figure size 432x288 with 1 Axes>"
      ]
     },
     "metadata": {
      "needs_background": "light"
     },
     "output_type": "display_data"
    },
    {
     "data": {
      "image/png": "[encoded data removed]",
      "text/plain": [
       "<Figure size 432x288 with 1 Axes>"
      ]
     },
     "metadata": {
      "needs_background": "light"
     },
     "output_type": "display_data"
    },
    {
     "name": "stdout",
     "output_type": "stream",
     "text": [
      "Mean Training Accuracy: 0.7678000009059907\n",
      "Mean Validation Accuracy: 0.7269000005722046\n",
      "Mean Training Loss: 0.4135673281550407\n",
      "Mean Validation Loss: 0.48020294547080994\n",
      "Mean Training Recall: 0.6584905678033829\n",
      "Mean Validation Recall: 0.5952381028234959\n",
      "7/7 [==============================] - 0s 8ms/step - loss: 0.6667 - accuracy: 0.7350 - recall: 0.0000e+00\n",
      "7/7 [==============================] - 0s 7ms/step - loss: 0.6726 - accuracy: 0.6850 - recall: 0.0000e+00\n",
      "Training Evaluation: [0.6667433381080627, 0.7350000143051147, 0.0]\n",
      "Validation Evaluation: [0.6667433381080627, 0.7350000143051147, 0.0]\n"
     ]
    },
    {
     "data": {
      "image/png": "[encoded data removed]",
      "text/plain": [
       "<Figure size 432x288 with 2 Axes>"
      ]
     },
     "metadata": {
      "needs_background": "light"
     },
     "output_type": "display_data"
    }
   ],
   "source": [
    "visualize_nn(history2, model2, X_val, y_val)"
   ]
  },
  {
   "cell_type": "code",
   "execution_count": 38,
   "metadata": {},
   "outputs": [],
   "source": [
    "def nn_model(dense_list, \n",
    "             train_directory=train_dir,\n",
    "             test_directory=test_dir,\n",
    "             val_directory=val_dir,\n",
    "             ts_tuple=(256,256), \n",
    "             color='grayscale',\n",
    "             batch_size=1000,\n",
    "             process_test=False,\n",
    "             input_activation='relu',\n",
    "             layer_activation='relu',\n",
    "             output_activation='sigmoid',\n",
    "             l2_rate=0.01,\n",
    "             optimizer='sgd',\n",
    "             loss='binary_crossentropy',\n",
    "             metrics=['accuracy', 'Recall'],\n",
    "             epochs=50,\n",
    "             bs=10):\n",
    "    \n",
    "    if not process_test:\n",
    "        X_train, X_val, y_train, y_val = preprocessing_dense_data(batch_size=batch_size)\n",
    "    \n",
    "    else:\n",
    "        X_train, X_test, X_val, y_train, y_test, y_val = preprocessing_dense_data(batch_size=batch_size)\n",
    "    \n",
    "    nn_model = models.Sequential()\n",
    "    \n",
    "    \n",
    "    nn_model.add(layers.Dense(64, activation=input_activation, input_shape=(X_train.shape[1],)))\n",
    "    \n",
    "    for i, val in enumerate(dense_list):\n",
    "        nn_model.add(layers.Dense(int(dense_list[i]), \n",
    "                                  activation=layer_activation,\n",
    "                                  kernel_regularizer=l2(l2=l2_rate)))\n",
    "        \n",
    "        \n",
    "    nn_model.add(layers.Dense(1, activation=output_activation))\n",
    "        \n",
    "    nn_model.compile(optimizer=optimizer,\n",
    "                     loss=loss,\n",
    "                     metrics=metrics)\n",
    "    \n",
    "    \n",
    "    hist = nn_model.fit(X_train, y_train, epochs=epochs, batch_size=bs, validation_data=(X_val, y_val))\n",
    "    \n",
    "    visualize_nn(history, nn_model, X_val, y_val)\n",
    "    "
   ]
  },
  {
   "cell_type": "code",
   "execution_count": null,
   "metadata": {},
   "outputs": [
    {
     "name": "stdout",
     "output_type": "stream",
     "text": [
      "Found 4187 images belonging to 2 classes.\n",
      "Found 1045 images belonging to 2 classes.\n"
     ]
    }
   ],
   "source": [
    "nn_model([32,16],batch_size=1000)"
   ]
  },
  {
   "cell_type": "code",
   "execution_count": null,
   "metadata": {},
   "outputs": [],
   "source": [
    "nn_model([32,16,8],batch_size=1000)"
   ]
  },
  {
   "cell_type": "code",
   "execution_count": null,
   "metadata": {},
   "outputs": [],
   "source": [
    "model = models.Sequential()\n",
    "model.add(layers.Conv2D(filters=32,\n",
    "                        kernel_size=(3, 3),\n",
    "                        activation='relu',\n",
    "                        input_shape=(28, 28, 1)))\n",
    "model.add(layers.MaxPooling2D(pool_size=(2, 2)))\n",
    "model.add(layers.Conv2D(64, (3, 3), activation='relu'))\n",
    "model.add(layers.MaxPooling2D((2, 2)))\n",
    "model.add(layers.Conv2D(64, (3, 3), activation='relu'))\n",
    "\n",
    "model.add(layers.Flatten())\n",
    "model.add(layers.Dense(64, activation='relu'))\n",
    "model.add(layers.Dense(10, activation='softmax'))"
   ]
  },
  {
   "cell_type": "code",
   "execution_count": null,
   "metadata": {},
   "outputs": [],
   "source": []
  },
  {
   "cell_type": "code",
   "execution_count": null,
   "metadata": {},
   "outputs": [],
   "source": []
  },
  {
   "cell_type": "code",
   "execution_count": null,
   "metadata": {},
   "outputs": [],
   "source": []
  },
  {
   "cell_type": "code",
   "execution_count": null,
   "metadata": {},
   "outputs": [],
   "source": []
  }
 ],
 "metadata": {
  "colab": {
   "authorship_tag": "ABX9TyMcDEaUlLZuGh8CL5tZD7Fi",
   "collapsed_sections": [],
   "include_colab_link": true,
   "name": "Eric–nn_classifier_colab_notebook",
   "provenance": []
  },
  "kernelspec": {
   "display_name": "Python 3",
   "language": "python",
   "name": "python3"
  },
  "language_info": {
   "codemirror_mode": {
    "name": "ipython",
    "version": 3
   },
   "file_extension": ".py",
   "mimetype": "text/x-python",
   "name": "python",
   "nbconvert_exporter": "python",
   "pygments_lexer": "ipython3",
   "version": "3.8.5"
  }
 },
 "nbformat": 4,
 "nbformat_minor": 1
}
