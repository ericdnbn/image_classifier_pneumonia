{
 "cells": [
  {
   "cell_type": "markdown",
   "metadata": {
    "colab_type": "text",
    "id": "view-in-github"
   },
   "source": [
    "<a href=\"https://colab.research.google.com/github/ericdnbn/nn_image_classifier_pneumonia/blob/main/Eric%E2%80%93nn_classifier_colab_notebook.ipynb\" target=\"_parent\"><img src=\"https://colab.research.google.com/assets/colab-badge.svg\" alt=\"Open In Colab\"/></a>"
   ]
  },
  {
   "cell_type": "code",
   "execution_count": 16,
   "metadata": {},
   "outputs": [],
   "source": [
    "import os, shutil\n",
    "import time\n",
    "import matplotlib.pyplot as plt\n",
    "import scipy\n",
    "import numpy as np\n",
    "from PIL import Image\n",
    "from scipy import ndimage\n",
    "from keras.preprocessing.image import ImageDataGenerator, array_to_img, img_to_array, load_img\n",
    "from keras import models\n",
    "from keras import layers\n"
   ]
  },
  {
   "cell_type": "code",
   "execution_count": 2,
   "metadata": {},
   "outputs": [],
   "source": [
    "train_dir = 'chest_xray/train'\n",
    "val_dir = 'chest_xray/val'\n",
    "test_dir = 'chest_xray/test/' "
   ]
  },
  {
   "cell_type": "code",
   "execution_count": 3,
   "metadata": {},
   "outputs": [],
   "source": [
    "train_normal_dir = os.path.join(train_dir, 'NORMAL')\n",
    "train_pneu_dir = os.path.join(train_dir, 'PNEUMONIA')\n",
    "\n",
    "test_normal_dir = os.path.join(test_dir, 'NORMAL')\n",
    "test_pneu_dir = os.path.join(test_dir, 'PNEUMONIA')\n",
    "\n",
    "val_normal_dir = os.path.join(val_dir, 'NORMAL')\n",
    "val_pneu_dir = os.path.join(val_dir, 'PNEUMONIA')"
   ]
  },
  {
   "cell_type": "code",
   "execution_count": 4,
   "metadata": {},
   "outputs": [
    {
     "data": {
      "text/plain": [
       "'chest_xray/train/NORMAL'"
      ]
     },
     "execution_count": 4,
     "metadata": {},
     "output_type": "execute_result"
    }
   ],
   "source": [
    "train_normal_dir"
   ]
  },
  {
   "cell_type": "code",
   "execution_count": 5,
   "metadata": {},
   "outputs": [
    {
     "data": {
      "text/plain": [
       "1341"
      ]
     },
     "execution_count": 5,
     "metadata": {},
     "output_type": "execute_result"
    }
   ],
   "source": [
    "len(os.listdir(train_normal_dir))"
   ]
  },
  {
   "cell_type": "code",
   "execution_count": 7,
   "metadata": {},
   "outputs": [
    {
     "name": "stdout",
     "output_type": "stream",
     "text": [
      "Found 5216 images belonging to 2 classes.\n",
      "Found 624 images belonging to 2 classes.\n",
      "Found 16 images belonging to 2 classes.\n"
     ]
    }
   ],
   "source": [
    "# get all the data in the directory split/train (542 images), and reshape them\n",
    "arg_dict = {'target_size':(100, 100), \n",
    "            'color_mode':'grayscale', \n",
    "            'batch_size':50}\n",
    "\n",
    "train_generator = ImageDataGenerator(rescale=1./255).flow_from_directory(train_dir, **arg_dict)\n",
    "\n",
    "\n",
    "# get all the data in the directory split/test (180 images), and reshape them\n",
    "test_generator = ImageDataGenerator(rescale=1./255).flow_from_directory(test_dir, **arg_dict) \n",
    "\n",
    "# get all the data in the directory split/validation (200 images), and reshape them\n",
    "val_generator = ImageDataGenerator(rescale=1./255).flow_from_directory(val_dir, **arg_dict)\n"
   ]
  },
  {
   "cell_type": "code",
   "execution_count": 8,
   "metadata": {},
   "outputs": [],
   "source": [
    "train_images, train_labels = next(train_generator)\n",
    "test_images, test_labels = next(test_generator)\n",
    "val_images, val_labels = next(val_generator)"
   ]
  },
  {
   "cell_type": "code",
   "execution_count": 9,
   "metadata": {},
   "outputs": [
    {
     "data": {
      "text/plain": [
       "array([[[0.6       ],\n",
       "        [0.5254902 ],\n",
       "        [0.3254902 ],\n",
       "        ...,\n",
       "        [0.25882354],\n",
       "        [0.29803923],\n",
       "        [0.427451  ]],\n",
       "\n",
       "       [[0.59607846],\n",
       "        [0.5137255 ],\n",
       "        [0.32941177],\n",
       "        ...,\n",
       "        [0.26666668],\n",
       "        [0.29803923],\n",
       "        [0.41176474]],\n",
       "\n",
       "       [[0.6       ],\n",
       "        [0.61960787],\n",
       "        [0.38431376],\n",
       "        ...,\n",
       "        [0.40784317],\n",
       "        [0.40784317],\n",
       "        [0.5411765 ]],\n",
       "\n",
       "       ...,\n",
       "\n",
       "       [[0.        ],\n",
       "        [0.        ],\n",
       "        [0.        ],\n",
       "        ...,\n",
       "        [0.        ],\n",
       "        [0.        ],\n",
       "        [0.        ]],\n",
       "\n",
       "       [[0.        ],\n",
       "        [0.        ],\n",
       "        [0.        ],\n",
       "        ...,\n",
       "        [0.        ],\n",
       "        [0.        ],\n",
       "        [0.        ]],\n",
       "\n",
       "       [[0.01176471],\n",
       "        [0.        ],\n",
       "        [0.        ],\n",
       "        ...,\n",
       "        [0.        ],\n",
       "        [0.        ],\n",
       "        [0.01176471]]], dtype=float32)"
      ]
     },
     "execution_count": 9,
     "metadata": {},
     "output_type": "execute_result"
    }
   ],
   "source": [
    "train_images[0]"
   ]
  },
  {
   "cell_type": "code",
   "execution_count": 10,
   "metadata": {},
   "outputs": [
    {
     "data": {
      "text/plain": [
       "<matplotlib.image.AxesImage at 0x7f9c5edafbb0>"
      ]
     },
     "execution_count": 10,
     "metadata": {},
     "output_type": "execute_result"
    },
    {
     "data": {
      "image/png": "[encoded data removed]",
      "text/plain": [
       "<Figure size 432x288 with 1 Axes>"
      ]
     },
     "metadata": {
      "needs_background": "light"
     },
     "output_type": "display_data"
    }
   ],
   "source": [
    "plt.imshow(train_images[3])"
   ]
  },
  {
   "cell_type": "code",
   "execution_count": 11,
   "metadata": {},
   "outputs": [
    {
     "data": {
      "text/plain": [
       "50"
      ]
     },
     "execution_count": 11,
     "metadata": {},
     "output_type": "execute_result"
    }
   ],
   "source": [
    "train_images.shape[0]"
   ]
  },
  {
   "cell_type": "code",
   "execution_count": 12,
   "metadata": {},
   "outputs": [
    {
     "name": "stdout",
     "output_type": "stream",
     "text": [
      "Number of training samples: 50\n",
      "Number of testing samples: 50\n",
      "Number of validation samples: 16\n",
      "train_images shape: (50, 100, 100, 1)\n",
      "train_labels shape: (50, 2)\n",
      "test_images shape: (50, 100, 100, 1)\n",
      "test_labels shape: (50, 2)\n",
      "val_images shape: (16, 100, 100, 1)\n",
      "val_labels shape: (16, 2)\n"
     ]
    }
   ],
   "source": [
    "m_train = train_images.shape[0]\n",
    "num_px = train_images.shape[1]\n",
    "m_test = test_images.shape[0]\n",
    "m_val = val_images.shape[0]\n",
    "\n",
    "print (\"Number of training samples: \" + str(m_train))\n",
    "print (\"Number of testing samples: \" + str(m_test))\n",
    "print (\"Number of validation samples: \" + str(m_val))\n",
    "print (\"train_images shape: \" + str(train_images.shape))\n",
    "print (\"train_labels shape: \" + str(train_labels.shape))\n",
    "print (\"test_images shape: \" + str(test_images.shape))\n",
    "print (\"test_labels shape: \" + str(test_labels.shape))\n",
    "print (\"val_images shape: \" + str(val_images.shape))\n",
    "print (\"val_labels shape: \" + str(val_labels.shape))"
   ]
  },
  {
   "cell_type": "code",
   "execution_count": 13,
   "metadata": {},
   "outputs": [
    {
     "name": "stdout",
     "output_type": "stream",
     "text": [
      "(50, 10000)\n",
      "(50, 10000)\n",
      "(16, 10000)\n"
     ]
    }
   ],
   "source": [
    "train_img = train_images.reshape(train_images.shape[0], -1)\n",
    "test_img = test_images.reshape(test_images.shape[0], -1)\n",
    "val_img = val_images.reshape(val_images.shape[0], -1)\n",
    "\n",
    "print(train_img.shape)\n",
    "print(test_img.shape)\n",
    "print(val_img.shape)"
   ]
  },
  {
   "cell_type": "code",
   "execution_count": 14,
   "metadata": {},
   "outputs": [
    {
     "name": "stdout",
     "output_type": "stream",
     "text": [
      "[[0.]\n",
      " [1.]\n",
      " [0.]\n",
      " [0.]\n",
      " [0.]\n",
      " [0.]\n",
      " [0.]\n",
      " [0.]\n",
      " [0.]\n",
      " [0.]\n",
      " [0.]\n",
      " [0.]\n",
      " [0.]\n",
      " [0.]\n",
      " [0.]\n",
      " [0.]\n",
      " [0.]\n",
      " [0.]\n",
      " [0.]\n",
      " [1.]\n",
      " [0.]\n",
      " [0.]\n",
      " [1.]\n",
      " [0.]\n",
      " [0.]\n",
      " [0.]\n",
      " [0.]\n",
      " [1.]\n",
      " [1.]\n",
      " [1.]\n",
      " [0.]\n",
      " [1.]\n",
      " [1.]\n",
      " [1.]\n",
      " [1.]\n",
      " [0.]\n",
      " [0.]\n",
      " [1.]\n",
      " [0.]\n",
      " [1.]\n",
      " [1.]\n",
      " [0.]\n",
      " [1.]\n",
      " [1.]\n",
      " [0.]\n",
      " [0.]\n",
      " [0.]\n",
      " [0.]\n",
      " [0.]\n",
      " [0.]]\n",
      "[[0.]\n",
      " [0.]\n",
      " [0.]\n",
      " [1.]\n",
      " [0.]\n",
      " [1.]\n",
      " [0.]\n",
      " [1.]\n",
      " [1.]\n",
      " [1.]\n",
      " [0.]\n",
      " [1.]\n",
      " [0.]\n",
      " [0.]\n",
      " [0.]\n",
      " [0.]\n",
      " [0.]\n",
      " [0.]\n",
      " [0.]\n",
      " [1.]\n",
      " [1.]\n",
      " [0.]\n",
      " [0.]\n",
      " [1.]\n",
      " [0.]\n",
      " [1.]\n",
      " [0.]\n",
      " [0.]\n",
      " [1.]\n",
      " [0.]\n",
      " [0.]\n",
      " [0.]\n",
      " [1.]\n",
      " [0.]\n",
      " [0.]\n",
      " [0.]\n",
      " [0.]\n",
      " [0.]\n",
      " [0.]\n",
      " [0.]\n",
      " [0.]\n",
      " [0.]\n",
      " [1.]\n",
      " [0.]\n",
      " [0.]\n",
      " [1.]\n",
      " [0.]\n",
      " [1.]\n",
      " [0.]\n",
      " [0.]]\n",
      "[[0.]\n",
      " [1.]\n",
      " [1.]\n",
      " [1.]\n",
      " [1.]\n",
      " [0.]\n",
      " [1.]\n",
      " [1.]\n",
      " [0.]\n",
      " [0.]\n",
      " [1.]\n",
      " [1.]\n",
      " [0.]\n",
      " [0.]\n",
      " [0.]\n",
      " [0.]]\n"
     ]
    }
   ],
   "source": [
    "train_y = np.reshape(train_labels[:,0], (50,1))\n",
    "test_y = np.reshape(test_labels[:,0], (50,1))\n",
    "val_y = np.reshape(val_labels[:,0], (16,1))\n",
    "\n",
    "print(train_y)\n",
    "print(test_y)\n",
    "print(val_y)"
   ]
  },
  {
   "cell_type": "code",
   "execution_count": 17,
   "metadata": {},
   "outputs": [],
   "source": [
    "# First Simple Model\n",
    "model = models.Sequential()"
   ]
  },
  {
   "cell_type": "code",
   "execution_count": 21,
   "metadata": {},
   "outputs": [],
   "source": [
    "model.add(layers.Dense(32, activation='relu', input_shape=(10000,)))\n",
    "model.add(layers.Dense(1, activation='sigmoid'))"
   ]
  },
  {
   "cell_type": "code",
   "execution_count": 34,
   "metadata": {},
   "outputs": [],
   "source": [
    "model.compile(optimizer='sgd',\n",
    "              loss='binary_crossentropy',\n",
    "              metrics=['accuracy', 'Recall'])"
   ]
  },
  {
   "cell_type": "code",
   "execution_count": 35,
   "metadata": {},
   "outputs": [
    {
     "name": "stdout",
     "output_type": "stream",
     "text": [
      "Epoch 1/50\n",
      "5/5 [==============================] - 1s 119ms/step - loss: 0.0089 - accuracy: 1.0000 - recall: 1.0000 - val_loss: 0.5011 - val_accuracy: 0.8125 - val_recall: 0.6250\n",
      "Epoch 2/50\n",
      "5/5 [==============================] - ETA: 0s - loss: 0.0053 - accuracy: 1.0000 - recall: 1.000 - 0s 29ms/step - loss: 0.0073 - accuracy: 1.0000 - recall: 1.0000 - val_loss: 0.5280 - val_accuracy: 0.8125 - val_recall: 0.6250\n",
      "Epoch 3/50\n",
      "5/5 [==============================] - 0s 29ms/step - loss: 0.0073 - accuracy: 1.0000 - recall: 1.0000 - val_loss: 0.4940 - val_accuracy: 0.8125 - val_recall: 0.6250\n",
      "Epoch 4/50\n",
      "5/5 [==============================] - 0s 22ms/step - loss: 0.0075 - accuracy: 1.0000 - recall: 1.0000 - val_loss: 0.4746 - val_accuracy: 0.8125 - val_recall: 0.6250\n",
      "Epoch 5/50\n",
      "5/5 [==============================] - 0s 28ms/step - loss: 0.0069 - accuracy: 1.0000 - recall: 1.0000 - val_loss: 0.4690 - val_accuracy: 0.8125 - val_recall: 0.6250\n",
      "Epoch 6/50\n",
      "5/5 [==============================] - 0s 24ms/step - loss: 0.0069 - accuracy: 1.0000 - recall: 1.0000 - val_loss: 0.5068 - val_accuracy: 0.8125 - val_recall: 0.6250\n",
      "Epoch 7/50\n",
      "5/5 [==============================] - 0s 26ms/step - loss: 0.0068 - accuracy: 1.0000 - recall: 1.0000 - val_loss: 0.5199 - val_accuracy: 0.8125 - val_recall: 0.6250\n",
      "Epoch 8/50\n",
      "5/5 [==============================] - 0s 38ms/step - loss: 0.0066 - accuracy: 1.0000 - recall: 1.0000 - val_loss: 0.5530 - val_accuracy: 0.8125 - val_recall: 0.6250\n",
      "Epoch 9/50\n",
      "5/5 [==============================] - 0s 24ms/step - loss: 0.0068 - accuracy: 1.0000 - recall: 1.0000 - val_loss: 0.5303 - val_accuracy: 0.8125 - val_recall: 0.6250\n",
      "Epoch 10/50\n",
      "5/5 [==============================] - 0s 54ms/step - loss: 0.0071 - accuracy: 1.0000 - recall: 1.0000 - val_loss: 0.5332 - val_accuracy: 0.8125 - val_recall: 0.6250\n",
      "Epoch 11/50\n",
      "5/5 [==============================] - 0s 17ms/step - loss: 0.0064 - accuracy: 1.0000 - recall: 1.0000 - val_loss: 0.4785 - val_accuracy: 0.8125 - val_recall: 0.6250\n",
      "Epoch 12/50\n",
      "5/5 [==============================] - 0s 25ms/step - loss: 0.0063 - accuracy: 1.0000 - recall: 1.0000 - val_loss: 0.5092 - val_accuracy: 0.8125 - val_recall: 0.6250\n",
      "Epoch 13/50\n",
      "5/5 [==============================] - 0s 28ms/step - loss: 0.0065 - accuracy: 1.0000 - recall: 1.0000 - val_loss: 0.4900 - val_accuracy: 0.8125 - val_recall: 0.6250\n",
      "Epoch 14/50\n",
      "5/5 [==============================] - 0s 30ms/step - loss: 0.0060 - accuracy: 1.0000 - recall: 1.0000 - val_loss: 0.5096 - val_accuracy: 0.8125 - val_recall: 0.6250\n",
      "Epoch 15/50\n",
      "5/5 [==============================] - 0s 27ms/step - loss: 0.0062 - accuracy: 1.0000 - recall: 1.0000 - val_loss: 0.5292 - val_accuracy: 0.8125 - val_recall: 0.6250\n",
      "Epoch 16/50\n",
      "5/5 [==============================] - 0s 20ms/step - loss: 0.0061 - accuracy: 1.0000 - recall: 1.0000 - val_loss: 0.5356 - val_accuracy: 0.8125 - val_recall: 0.6250\n",
      "Epoch 17/50\n",
      "5/5 [==============================] - 0s 21ms/step - loss: 0.0057 - accuracy: 1.0000 - recall: 1.0000 - val_loss: 0.5137 - val_accuracy: 0.8125 - val_recall: 0.6250\n",
      "Epoch 18/50\n",
      "5/5 [==============================] - 0s 20ms/step - loss: 0.0059 - accuracy: 1.0000 - recall: 1.0000 - val_loss: 0.5051 - val_accuracy: 0.8125 - val_recall: 0.6250\n",
      "Epoch 19/50\n",
      "5/5 [==============================] - 0s 20ms/step - loss: 0.0056 - accuracy: 1.0000 - recall: 1.0000 - val_loss: 0.5150 - val_accuracy: 0.8125 - val_recall: 0.6250\n",
      "Epoch 20/50\n",
      "5/5 [==============================] - 0s 22ms/step - loss: 0.0061 - accuracy: 1.0000 - recall: 1.0000 - val_loss: 0.5050 - val_accuracy: 0.8125 - val_recall: 0.6250\n",
      "Epoch 21/50\n",
      "5/5 [==============================] - 0s 23ms/step - loss: 0.0055 - accuracy: 1.0000 - recall: 1.0000 - val_loss: 0.4732 - val_accuracy: 0.8125 - val_recall: 0.6250\n",
      "Epoch 22/50\n",
      "5/5 [==============================] - 0s 18ms/step - loss: 0.0056 - accuracy: 1.0000 - recall: 1.0000 - val_loss: 0.5236 - val_accuracy: 0.8125 - val_recall: 0.6250\n",
      "Epoch 23/50\n",
      "5/5 [==============================] - 0s 24ms/step - loss: 0.0053 - accuracy: 1.0000 - recall: 1.0000 - val_loss: 0.5019 - val_accuracy: 0.8125 - val_recall: 0.6250\n",
      "Epoch 24/50\n",
      "5/5 [==============================] - 0s 22ms/step - loss: 0.0053 - accuracy: 1.0000 - recall: 1.0000 - val_loss: 0.5042 - val_accuracy: 0.8125 - val_recall: 0.6250\n",
      "Epoch 25/50\n",
      "5/5 [==============================] - 0s 38ms/step - loss: 0.0052 - accuracy: 1.0000 - recall: 1.0000 - val_loss: 0.5442 - val_accuracy: 0.8125 - val_recall: 0.6250\n",
      "Epoch 26/50\n",
      "5/5 [==============================] - 0s 27ms/step - loss: 0.0052 - accuracy: 1.0000 - recall: 1.0000 - val_loss: 0.5194 - val_accuracy: 0.8125 - val_recall: 0.6250\n",
      "Epoch 27/50\n",
      "5/5 [==============================] - 0s 44ms/step - loss: 0.0051 - accuracy: 1.0000 - recall: 1.0000 - val_loss: 0.5302 - val_accuracy: 0.8125 - val_recall: 0.6250\n",
      "Epoch 28/50\n",
      "5/5 [==============================] - 0s 28ms/step - loss: 0.0049 - accuracy: 1.0000 - recall: 1.0000 - val_loss: 0.5182 - val_accuracy: 0.8125 - val_recall: 0.6250\n",
      "Epoch 29/50\n",
      "5/5 [==============================] - 0s 36ms/step - loss: 0.0051 - accuracy: 1.0000 - recall: 1.0000 - val_loss: 0.4705 - val_accuracy: 0.8125 - val_recall: 0.6250\n",
      "Epoch 30/50\n",
      "5/5 [==============================] - 0s 34ms/step - loss: 0.0052 - accuracy: 1.0000 - recall: 1.0000 - val_loss: 0.5065 - val_accuracy: 0.8125 - val_recall: 0.6250\n",
      "Epoch 31/50\n",
      "5/5 [==============================] - 0s 30ms/step - loss: 0.0049 - accuracy: 1.0000 - recall: 1.0000 - val_loss: 0.5122 - val_accuracy: 0.8125 - val_recall: 0.6250\n",
      "Epoch 32/50\n",
      "5/5 [==============================] - 0s 22ms/step - loss: 0.0048 - accuracy: 1.0000 - recall: 1.0000 - val_loss: 0.4668 - val_accuracy: 0.8125 - val_recall: 0.6250\n",
      "Epoch 33/50\n",
      "5/5 [==============================] - 0s 34ms/step - loss: 0.0049 - accuracy: 1.0000 - recall: 1.0000 - val_loss: 0.5107 - val_accuracy: 0.8125 - val_recall: 0.6250\n",
      "Epoch 34/50\n",
      "5/5 [==============================] - 0s 22ms/step - loss: 0.0047 - accuracy: 1.0000 - recall: 1.0000 - val_loss: 0.5447 - val_accuracy: 0.8125 - val_recall: 0.6250\n",
      "Epoch 35/50\n",
      "5/5 [==============================] - 0s 55ms/step - loss: 0.0046 - accuracy: 1.0000 - recall: 1.0000 - val_loss: 0.5199 - val_accuracy: 0.8125 - val_recall: 0.6250\n",
      "Epoch 36/50\n",
      "5/5 [==============================] - 0s 27ms/step - loss: 0.0046 - accuracy: 1.0000 - recall: 1.0000 - val_loss: 0.4973 - val_accuracy: 0.8125 - val_recall: 0.6250\n",
      "Epoch 37/50\n",
      "5/5 [==============================] - 0s 34ms/step - loss: 0.0045 - accuracy: 1.0000 - recall: 1.0000 - val_loss: 0.5554 - val_accuracy: 0.8125 - val_recall: 0.6250\n",
      "Epoch 38/50\n",
      "5/5 [==============================] - 0s 21ms/step - loss: 0.0045 - accuracy: 1.0000 - recall: 1.0000 - val_loss: 0.5476 - val_accuracy: 0.8125 - val_recall: 0.6250\n",
      "Epoch 39/50\n",
      "5/5 [==============================] - 0s 17ms/step - loss: 0.0044 - accuracy: 1.0000 - recall: 1.0000 - val_loss: 0.5088 - val_accuracy: 0.8125 - val_recall: 0.6250\n",
      "Epoch 40/50\n",
      "5/5 [==============================] - 0s 31ms/step - loss: 0.0042 - accuracy: 1.0000 - recall: 1.0000 - val_loss: 0.5158 - val_accuracy: 0.8125 - val_recall: 0.6250\n",
      "Epoch 41/50\n",
      "5/5 [==============================] - 0s 24ms/step - loss: 0.0045 - accuracy: 1.0000 - recall: 1.0000 - val_loss: 0.5011 - val_accuracy: 0.8125 - val_recall: 0.6250\n",
      "Epoch 42/50\n",
      "5/5 [==============================] - 0s 25ms/step - loss: 0.0042 - accuracy: 1.0000 - recall: 1.0000 - val_loss: 0.5005 - val_accuracy: 0.8125 - val_recall: 0.6250\n",
      "Epoch 43/50\n",
      "5/5 [==============================] - 0s 29ms/step - loss: 0.0042 - accuracy: 1.0000 - recall: 1.0000 - val_loss: 0.5228 - val_accuracy: 0.8125 - val_recall: 0.6250\n",
      "Epoch 44/50\n",
      "5/5 [==============================] - 0s 24ms/step - loss: 0.0041 - accuracy: 1.0000 - recall: 1.0000 - val_loss: 0.5018 - val_accuracy: 0.8125 - val_recall: 0.6250\n",
      "Epoch 45/50\n",
      "5/5 [==============================] - 0s 46ms/step - loss: 0.0041 - accuracy: 1.0000 - recall: 1.0000 - val_loss: 0.5322 - val_accuracy: 0.8125 - val_recall: 0.6250\n",
      "Epoch 46/50\n",
      "5/5 [==============================] - 0s 37ms/step - loss: 0.0041 - accuracy: 1.0000 - recall: 1.0000 - val_loss: 0.5026 - val_accuracy: 0.8125 - val_recall: 0.6250\n"
     ]
    },
    {
     "name": "stdout",
     "output_type": "stream",
     "text": [
      "Epoch 47/50\n",
      "5/5 [==============================] - 0s 28ms/step - loss: 0.0040 - accuracy: 1.0000 - recall: 1.0000 - val_loss: 0.5242 - val_accuracy: 0.8125 - val_recall: 0.6250\n",
      "Epoch 48/50\n",
      "5/5 [==============================] - 0s 22ms/step - loss: 0.0040 - accuracy: 1.0000 - recall: 1.0000 - val_loss: 0.5254 - val_accuracy: 0.8125 - val_recall: 0.6250\n",
      "Epoch 49/50\n",
      "5/5 [==============================] - 0s 28ms/step - loss: 0.0039 - accuracy: 1.0000 - recall: 1.0000 - val_loss: 0.4988 - val_accuracy: 0.8125 - val_recall: 0.6250\n",
      "Epoch 50/50\n",
      "5/5 [==============================] - 0s 25ms/step - loss: 0.0040 - accuracy: 1.0000 - recall: 1.0000 - val_loss: 0.5051 - val_accuracy: 0.8125 - val_recall: 0.6250\n"
     ]
    }
   ],
   "source": [
    "history = model.fit(train_img, \n",
    "                     train_y,\n",
    "                     epochs=50,\n",
    "                     batch_size=10,\n",
    "                     validation_data=(val_img, val_y))"
   ]
  },
  {
   "cell_type": "code",
   "execution_count": 39,
   "metadata": {},
   "outputs": [
    {
     "data": {
      "image/png": "[encoded data removed]",
      "text/plain": [
       "<Figure size 432x288 with 1 Axes>"
      ]
     },
     "metadata": {
      "needs_background": "light"
     },
     "output_type": "display_data"
    },
    {
     "data": {
      "image/png": "[encoded data removed]",
      "text/plain": [
       "<Figure size 432x288 with 1 Axes>"
      ]
     },
     "metadata": {
      "needs_background": "light"
     },
     "output_type": "display_data"
    },
    {
     "data": {
      "image/png": "[encoded data removed]",
      "text/plain": [
       "<Figure size 432x288 with 1 Axes>"
      ]
     },
     "metadata": {
      "needs_background": "light"
     },
     "output_type": "display_data"
    }
   ],
   "source": [
    "\n",
    "import matplotlib.pyplot as plt\n",
    "%matplotlib inline \n",
    "\n",
    "acc = history.history['accuracy']\n",
    "val_acc = history.history['val_accuracy']\n",
    "loss = history.history['loss']\n",
    "val_loss = history.history['val_loss']\n",
    "recall = history.history['recall']\n",
    "val_recall = history.history['val_recall']\n",
    "\n",
    "epochs = range(len(acc))\n",
    "plt.plot(epochs, acc, 'bo', label='Training accuracy')\n",
    "plt.plot(epochs, val_acc, 'b', label='Validation accuracy')\n",
    "plt.title('Training and validation accuracy')\n",
    "plt.legend()\n",
    "plt.figure()\n",
    "plt.plot(epochs, loss, 'bo', label='Training loss')\n",
    "plt.plot(epochs, val_loss, 'b', label='Validation loss')\n",
    "plt.title('Training and validation loss')\n",
    "plt.legend()\n",
    "plt.figure()\n",
    "plt.plot(epochs, recall, 'bo', label='Training recall')\n",
    "plt.plot(epochs, val_recall, 'b', label='Validation recall')\n",
    "plt.title('Training and validation recall')\n",
    "plt.legend()\n",
    "plt.show()"
   ]
  },
  {
   "cell_type": "code",
   "execution_count": 28,
   "metadata": {},
   "outputs": [
    {
     "name": "stdout",
     "output_type": "stream",
     "text": [
      "2/2 [==============================] - 0s 3ms/step - loss: 0.0072 - accuracy: 1.0000\n"
     ]
    }
   ],
   "source": [
    "results_train = model.evaluate(train_img, train_y)"
   ]
  },
  {
   "cell_type": "code",
   "execution_count": 29,
   "metadata": {},
   "outputs": [
    {
     "data": {
      "text/plain": [
       "[0.007243696600198746, 1.0]"
      ]
     },
     "execution_count": 29,
     "metadata": {},
     "output_type": "execute_result"
    }
   ],
   "source": [
    "results_train"
   ]
  },
  {
   "cell_type": "code",
   "execution_count": 30,
   "metadata": {},
   "outputs": [
    {
     "name": "stdout",
     "output_type": "stream",
     "text": [
      "2/2 [==============================] - 0s 2ms/step - loss: 0.5720 - accuracy: 0.8000\n"
     ]
    }
   ],
   "source": [
    "results_test = model.evaluate(test_img, test_y)"
   ]
  },
  {
   "cell_type": "code",
   "execution_count": 31,
   "metadata": {},
   "outputs": [
    {
     "data": {
      "text/plain": [
       "[0.5720465183258057, 0.800000011920929]"
      ]
     },
     "execution_count": 31,
     "metadata": {},
     "output_type": "execute_result"
    }
   ],
   "source": [
    "results_test"
   ]
  },
  {
   "cell_type": "code",
   "execution_count": 53,
   "metadata": {},
   "outputs": [],
   "source": [
    "from sklearn.metrics import confusion_matrix, ConfusionMatrixDisplay"
   ]
  },
  {
   "cell_type": "code",
   "execution_count": 51,
   "metadata": {},
   "outputs": [],
   "source": [
    "preds = (model.predict(train_img) > 0.5).astype('int32')\n",
    "\n",
    "cm = confusion_matrix(train_y, preds)"
   ]
  },
  {
   "cell_type": "code",
   "execution_count": 52,
   "metadata": {},
   "outputs": [
    {
     "data": {
      "text/plain": [
       "array([[35,  0],\n",
       "       [ 0, 15]])"
      ]
     },
     "execution_count": 52,
     "metadata": {},
     "output_type": "execute_result"
    }
   ],
   "source": [
    "cm"
   ]
  },
  {
   "cell_type": "code",
   "execution_count": 55,
   "metadata": {},
   "outputs": [],
   "source": [
    "cmd = ConfusionMatrixDisplay(cm, display_labels=['Nomral', 'Pneumonia'])"
   ]
  },
  {
   "cell_type": "code",
   "execution_count": 60,
   "metadata": {},
   "outputs": [
    {
     "data": {
      "text/plain": [
       "<sklearn.metrics._plot.confusion_matrix.ConfusionMatrixDisplay at 0x7f9c45832370>"
      ]
     },
     "execution_count": 60,
     "metadata": {},
     "output_type": "execute_result"
    },
    {
     "data": {
      "image/png": "[encoded data removed]",
      "text/plain": [
       "<Figure size 432x288 with 2 Axes>"
      ]
     },
     "metadata": {
      "needs_background": "light"
     },
     "output_type": "display_data"
    }
   ],
   "source": [
    "cmd.plot()"
   ]
  },
  {
   "cell_type": "code",
   "execution_count": 46,
   "metadata": {},
   "outputs": [],
   "source": [
    "def generator(ts_tuple, color, bs_num):\n",
    "\n",
    "    arg_dict = {'target_size':ts_tuple, \n",
    "                'color_mode':color, \n",
    "                'batch_size':bs_num}\n",
    "\n",
    "    train_generator = ImageDataGenerator(rescale=1./255).flow_from_directory(train_dir, **arg_dict)\n",
    "\n",
    "\n",
    "    # get all the data in the directory split/test (180 images), and reshape them\n",
    "    test_generator = ImageDataGenerator(rescale=1./255).flow_from_directory(test_dir, **arg_dict) \n",
    "\n",
    "    # get all the data in the directory split/validation (200 images), and reshape them\n",
    "    val_generator = ImageDataGenerator(rescale=1./255).flow_from_directory(val_dir, **arg_dict)\n"
   ]
  },
  {
   "cell_type": "code",
   "execution_count": null,
   "metadata": {},
   "outputs": [],
   "source": []
  },
  {
   "cell_type": "code",
   "execution_count": null,
   "metadata": {},
   "outputs": [],
   "source": []
  },
  {
   "cell_type": "code",
   "execution_count": null,
   "metadata": {},
   "outputs": [],
   "source": []
  },
  {
   "cell_type": "code",
   "execution_count": null,
   "metadata": {},
   "outputs": [],
   "source": []
  },
  {
   "cell_type": "code",
   "execution_count": null,
   "metadata": {},
   "outputs": [],
   "source": []
  },
  {
   "cell_type": "code",
   "execution_count": null,
   "metadata": {},
   "outputs": [],
   "source": [
    "model = models.Sequential()\n",
    "model.add(layers.Conv2D(filters=32,\n",
    "                        kernel_size=(3, 3),\n",
    "                        activation='relu',\n",
    "                        input_shape=(28, 28, 1)))\n",
    "model.add(layers.MaxPooling2D(pool_size=(2, 2)))\n",
    "model.add(layers.Conv2D(64, (3, 3), activation='relu'))\n",
    "model.add(layers.MaxPooling2D((2, 2)))\n",
    "model.add(layers.Conv2D(64, (3, 3), activation='relu'))\n",
    "\n",
    "model.add(layers.Flatten())\n",
    "model.add(layers.Dense(64, activation='relu'))\n",
    "model.add(layers.Dense(10, activation='softmax'))"
   ]
  }
 ],
 "metadata": {
  "colab": {
   "authorship_tag": "ABX9TyMcDEaUlLZuGh8CL5tZD7Fi",
   "collapsed_sections": [],
   "include_colab_link": true,
   "name": "Eric–nn_classifier_colab_notebook",
   "provenance": []
  },
  "kernelspec": {
   "display_name": "Python 3",
   "language": "python",
   "name": "python3"
  },
  "language_info": {
   "codemirror_mode": {
    "name": "ipython",
    "version": 3
   },
   "file_extension": ".py",
   "mimetype": "text/x-python",
   "name": "python",
   "nbconvert_exporter": "python",
   "pygments_lexer": "ipython3",
   "version": "3.8.5"
  }
 },
 "nbformat": 4,
 "nbformat_minor": 1
}
